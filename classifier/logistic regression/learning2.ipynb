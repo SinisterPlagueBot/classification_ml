{
 "cells": [
  {
   "cell_type": "code",
   "execution_count": 1,
   "metadata": {},
   "outputs": [],
   "source": [
    "from sklearn.model_selection import train_test_split\n",
    "from sklearn.linear_model import LinearRegression\n",
    "from sklearn.linear_model import LogisticRegression\n",
    "import pandas as pd\n",
    "\n"
   ]
  },
  {
   "cell_type": "markdown",
   "metadata": {},
   "source": [
    "processing missing data :"
   ]
  },
  {
   "cell_type": "code",
   "execution_count": 2,
   "metadata": {},
   "outputs": [
    {
     "name": "stdout",
     "output_type": "stream",
     "text": [
      "Columns with missing values: ['margin_low']\n"
     ]
    }
   ],
   "source": [
    "dataSet = pd.read_csv('fake_bills.csv', sep=';')\n",
    "\n",
    "missing_columns = dataSet.columns[dataSet.isnull().any()].tolist()\n",
    "print(\"Columns with missing values:\", missing_columns)"
   ]
  },
  {
   "cell_type": "markdown",
   "metadata": {},
   "source": [
    "identifying rows with missing values\n"
   ]
  },
  {
   "cell_type": "code",
   "execution_count": 3,
   "metadata": {},
   "outputs": [
    {
     "name": "stdout",
     "output_type": "stream",
     "text": [
      "      diagonal  height_left  height_right  margin_low  margin_up  length\n",
      "0       171.81       104.86        104.95        4.52       2.89  112.83\n",
      "1       171.46       103.36        103.66        3.77       2.99  113.09\n",
      "2       172.69       104.48        103.50        4.40       2.94  113.16\n",
      "3       171.36       103.91        103.94        3.62       3.01  113.51\n",
      "4       171.73       104.28        103.46        4.04       3.48  112.54\n",
      "...        ...          ...           ...         ...        ...     ...\n",
      "1495    171.75       104.38        104.17        4.42       3.09  111.28\n",
      "1496    172.19       104.63        104.44        5.27       3.37  110.97\n",
      "1497    171.80       104.01        104.12        5.51       3.36  111.95\n",
      "1498    172.06       104.28        104.06        5.17       3.46  112.25\n",
      "1499    171.47       104.15        103.82        4.63       3.37  112.07\n",
      "\n",
      "[1463 rows x 6 columns]\n",
      "      diagonal  height_left  height_right  margin_low  margin_up  length\n",
      "72      171.94       103.89        103.45         NaN       3.25  112.79\n",
      "99      171.93       104.07        104.18         NaN       3.14  113.08\n",
      "151     172.07       103.80        104.38         NaN       3.02  112.93\n",
      "197     171.45       103.66        103.80         NaN       3.62  113.27\n",
      "241     171.83       104.14        104.06         NaN       3.02  112.36\n",
      "251     171.80       103.26        102.82         NaN       2.95  113.22\n",
      "284     171.92       103.83        103.76         NaN       3.23  113.29\n",
      "334     171.85       103.70        103.96         NaN       3.00  113.36\n",
      "410     172.56       103.72        103.51         NaN       3.12  112.95\n",
      "413     172.30       103.66        103.50         NaN       3.16  112.95\n",
      "445     172.34       104.42        103.22         NaN       3.01  112.97\n",
      "481     171.81       103.53        103.96         NaN       2.71  113.99\n",
      "505     172.01       103.97        104.05         NaN       2.98  113.65\n",
      "611     171.80       103.68        103.49         NaN       3.30  112.84\n",
      "654     171.97       103.69        103.54         NaN       2.70  112.79\n",
      "675     171.60       103.85        103.91         NaN       2.56  113.27\n",
      "710     172.03       103.97        103.86         NaN       3.07  112.65\n",
      "739     172.07       103.74        103.76         NaN       3.09  112.41\n",
      "742     172.14       104.06        103.96         NaN       3.24  113.07\n",
      "780     172.41       103.95        103.79         NaN       3.13  113.41\n",
      "798     171.96       103.84        103.62         NaN       3.01  114.44\n",
      "844     171.62       104.14        104.49         NaN       2.99  113.35\n",
      "845     172.02       104.21        104.05         NaN       2.90  113.62\n",
      "871     171.37       104.07        103.75         NaN       3.07  113.27\n",
      "895     171.81       103.68        103.80         NaN       2.98  113.82\n",
      "919     171.92       103.68        103.45         NaN       2.58  113.68\n",
      "945     172.09       103.74        103.52         NaN       3.02  112.78\n",
      "946     171.63       103.87        104.66         NaN       3.27  112.68\n",
      "981     172.02       104.23        103.72         NaN       2.99  113.37\n",
      "1076    171.57       104.27        104.44         NaN       3.21  111.87\n",
      "1121    171.40       104.38        104.19         NaN       3.17  112.39\n",
      "1176    171.59       104.05        103.94         NaN       3.02  111.29\n",
      "1303    172.17       104.49        103.76         NaN       2.93  111.21\n",
      "1315    172.08       104.15        104.17         NaN       3.40  112.29\n",
      "1347    171.72       104.46        104.12         NaN       3.61  110.31\n",
      "1435    172.66       104.33        104.41         NaN       3.56  111.47\n",
      "1438    171.90       104.28        104.29         NaN       3.24  111.49\n"
     ]
    }
   ],
   "source": [
    "# since we are going to predict the missing column values it will be our label\n",
    "# and the other features will be the features in the linear regression\n",
    "\n",
    "#  removing the column tha twill be used or logistic regression\n",
    "df=dataSet.drop('is_genuine',axis=1)\n",
    "\n",
    "complete_df=df[df['margin_low'].notnull()]\n",
    "\n",
    "missing_df=df[df['margin_low'].isnull()]\n",
    "print(complete_df)\n",
    "print(missing_df)\n"
   ]
  },
  {
   "cell_type": "markdown",
   "metadata": {},
   "source": [
    "trainning data  for our regression model"
   ]
  },
  {
   "cell_type": "code",
   "execution_count": 4,
   "metadata": {},
   "outputs": [
    {
     "data": {
      "text/html": [
       "<style>#sk-container-id-1 {color: black;}#sk-container-id-1 pre{padding: 0;}#sk-container-id-1 div.sk-toggleable {background-color: white;}#sk-container-id-1 label.sk-toggleable__label {cursor: pointer;display: block;width: 100%;margin-bottom: 0;padding: 0.3em;box-sizing: border-box;text-align: center;}#sk-container-id-1 label.sk-toggleable__label-arrow:before {content: \"▸\";float: left;margin-right: 0.25em;color: #696969;}#sk-container-id-1 label.sk-toggleable__label-arrow:hover:before {color: black;}#sk-container-id-1 div.sk-estimator:hover label.sk-toggleable__label-arrow:before {color: black;}#sk-container-id-1 div.sk-toggleable__content {max-height: 0;max-width: 0;overflow: hidden;text-align: left;background-color: #f0f8ff;}#sk-container-id-1 div.sk-toggleable__content pre {margin: 0.2em;color: black;border-radius: 0.25em;background-color: #f0f8ff;}#sk-container-id-1 input.sk-toggleable__control:checked~div.sk-toggleable__content {max-height: 200px;max-width: 100%;overflow: auto;}#sk-container-id-1 input.sk-toggleable__control:checked~label.sk-toggleable__label-arrow:before {content: \"▾\";}#sk-container-id-1 div.sk-estimator input.sk-toggleable__control:checked~label.sk-toggleable__label {background-color: #d4ebff;}#sk-container-id-1 div.sk-label input.sk-toggleable__control:checked~label.sk-toggleable__label {background-color: #d4ebff;}#sk-container-id-1 input.sk-hidden--visually {border: 0;clip: rect(1px 1px 1px 1px);clip: rect(1px, 1px, 1px, 1px);height: 1px;margin: -1px;overflow: hidden;padding: 0;position: absolute;width: 1px;}#sk-container-id-1 div.sk-estimator {font-family: monospace;background-color: #f0f8ff;border: 1px dotted black;border-radius: 0.25em;box-sizing: border-box;margin-bottom: 0.5em;}#sk-container-id-1 div.sk-estimator:hover {background-color: #d4ebff;}#sk-container-id-1 div.sk-parallel-item::after {content: \"\";width: 100%;border-bottom: 1px solid gray;flex-grow: 1;}#sk-container-id-1 div.sk-label:hover label.sk-toggleable__label {background-color: #d4ebff;}#sk-container-id-1 div.sk-serial::before {content: \"\";position: absolute;border-left: 1px solid gray;box-sizing: border-box;top: 0;bottom: 0;left: 50%;z-index: 0;}#sk-container-id-1 div.sk-serial {display: flex;flex-direction: column;align-items: center;background-color: white;padding-right: 0.2em;padding-left: 0.2em;position: relative;}#sk-container-id-1 div.sk-item {position: relative;z-index: 1;}#sk-container-id-1 div.sk-parallel {display: flex;align-items: stretch;justify-content: center;background-color: white;position: relative;}#sk-container-id-1 div.sk-item::before, #sk-container-id-1 div.sk-parallel-item::before {content: \"\";position: absolute;border-left: 1px solid gray;box-sizing: border-box;top: 0;bottom: 0;left: 50%;z-index: -1;}#sk-container-id-1 div.sk-parallel-item {display: flex;flex-direction: column;z-index: 1;position: relative;background-color: white;}#sk-container-id-1 div.sk-parallel-item:first-child::after {align-self: flex-end;width: 50%;}#sk-container-id-1 div.sk-parallel-item:last-child::after {align-self: flex-start;width: 50%;}#sk-container-id-1 div.sk-parallel-item:only-child::after {width: 0;}#sk-container-id-1 div.sk-dashed-wrapped {border: 1px dashed gray;margin: 0 0.4em 0.5em 0.4em;box-sizing: border-box;padding-bottom: 0.4em;background-color: white;}#sk-container-id-1 div.sk-label label {font-family: monospace;font-weight: bold;display: inline-block;line-height: 1.2em;}#sk-container-id-1 div.sk-label-container {text-align: center;}#sk-container-id-1 div.sk-container {/* jupyter's `normalize.less` sets `[hidden] { display: none; }` but bootstrap.min.css set `[hidden] { display: none !important; }` so we also need the `!important` here to be able to override the default hidden behavior on the sphinx rendered scikit-learn.org. See: https://github.com/scikit-learn/scikit-learn/issues/21755 */display: inline-block !important;position: relative;}#sk-container-id-1 div.sk-text-repr-fallback {display: none;}</style><div id=\"sk-container-id-1\" class=\"sk-top-container\"><div class=\"sk-text-repr-fallback\"><pre>LinearRegression()</pre><b>In a Jupyter environment, please rerun this cell to show the HTML representation or trust the notebook. <br />On GitHub, the HTML representation is unable to render, please try loading this page with nbviewer.org.</b></div><div class=\"sk-container\" hidden><div class=\"sk-item\"><div class=\"sk-estimator sk-toggleable\"><input class=\"sk-toggleable__control sk-hidden--visually\" id=\"sk-estimator-id-1\" type=\"checkbox\" checked><label for=\"sk-estimator-id-1\" class=\"sk-toggleable__label sk-toggleable__label-arrow\">LinearRegression</label><div class=\"sk-toggleable__content\"><pre>LinearRegression()</pre></div></div></div></div></div>"
      ],
      "text/plain": [
       "LinearRegression()"
      ]
     },
     "execution_count": 4,
     "metadata": {},
     "output_type": "execute_result"
    }
   ],
   "source": [
    "# the missing column will be our target to predict\n",
    "x_complete =complete_df.drop('margin_low',axis=1) \n",
    "y_complete = complete_df['margin_low']\n",
    "model = LinearRegression()\n",
    "model.fit(x_complete,y_complete)"
   ]
  },
  {
   "cell_type": "markdown",
   "metadata": {},
   "source": [
    "predicting missing  values"
   ]
  },
  {
   "cell_type": "code",
   "execution_count": 5,
   "metadata": {},
   "outputs": [
    {
     "name": "stdout",
     "output_type": "stream",
     "text": [
      "[4.31852466 4.39366755 4.41045663 4.31901423 4.6506171  3.80330831\n",
      " 4.17973608 4.12744154 4.13503418 4.16053851 4.17742026 3.76855378\n",
      " 4.05876385 4.29804709 4.16060746 4.09406453 4.43984627 4.47065037\n",
      " 4.34164322 4.08041448 3.61430588 4.37181147 4.09362068 4.24962896\n",
      " 3.89374829 3.74633265 4.23741481 4.71053287 4.13778022 5.05027715\n",
      " 4.80214523 5.067584   5.04756967 4.77896717 5.726993   5.18586214\n",
      " 5.14004269]\n"
     ]
    }
   ],
   "source": [
    "x_missing=missing_df.drop('margin_low',axis=1)\n",
    "y_missing=model.predict(x_missing)\n",
    "print(y_missing)"
   ]
  },
  {
   "cell_type": "markdown",
   "metadata": {},
   "source": [
    "reconstructing the data set\n"
   ]
  },
  {
   "cell_type": "code",
   "execution_count": 6,
   "metadata": {},
   "outputs": [
    {
     "name": "stdout",
     "output_type": "stream",
     "text": [
      "0\n",
      "0\n"
     ]
    }
   ],
   "source": [
    "# data set without the target column('is a bill genuine')\n",
    "df.loc[df['margin_low'].isnull(),'margin_low']=y_missing\n",
    "# data set with the target column('is a bill genuine')\n",
    "dataSet.loc[dataSet['margin_low'].isnull(),'margin_low']=y_missing\n",
    "print(len(df[df['margin_low'].isnull()]))\n",
    "print(len(dataSet[dataSet['margin_low'].isnull()]))\n",
    "# output was 0 that means there is no missing values now we can proceed with our logistic regression"
   ]
  },
  {
   "cell_type": "markdown",
   "metadata": {},
   "source": [
    "trainning the classification model"
   ]
  },
  {
   "cell_type": "code",
   "execution_count": 7,
   "metadata": {},
   "outputs": [
    {
     "data": {
      "text/html": [
       "<style>#sk-container-id-2 {color: black;}#sk-container-id-2 pre{padding: 0;}#sk-container-id-2 div.sk-toggleable {background-color: white;}#sk-container-id-2 label.sk-toggleable__label {cursor: pointer;display: block;width: 100%;margin-bottom: 0;padding: 0.3em;box-sizing: border-box;text-align: center;}#sk-container-id-2 label.sk-toggleable__label-arrow:before {content: \"▸\";float: left;margin-right: 0.25em;color: #696969;}#sk-container-id-2 label.sk-toggleable__label-arrow:hover:before {color: black;}#sk-container-id-2 div.sk-estimator:hover label.sk-toggleable__label-arrow:before {color: black;}#sk-container-id-2 div.sk-toggleable__content {max-height: 0;max-width: 0;overflow: hidden;text-align: left;background-color: #f0f8ff;}#sk-container-id-2 div.sk-toggleable__content pre {margin: 0.2em;color: black;border-radius: 0.25em;background-color: #f0f8ff;}#sk-container-id-2 input.sk-toggleable__control:checked~div.sk-toggleable__content {max-height: 200px;max-width: 100%;overflow: auto;}#sk-container-id-2 input.sk-toggleable__control:checked~label.sk-toggleable__label-arrow:before {content: \"▾\";}#sk-container-id-2 div.sk-estimator input.sk-toggleable__control:checked~label.sk-toggleable__label {background-color: #d4ebff;}#sk-container-id-2 div.sk-label input.sk-toggleable__control:checked~label.sk-toggleable__label {background-color: #d4ebff;}#sk-container-id-2 input.sk-hidden--visually {border: 0;clip: rect(1px 1px 1px 1px);clip: rect(1px, 1px, 1px, 1px);height: 1px;margin: -1px;overflow: hidden;padding: 0;position: absolute;width: 1px;}#sk-container-id-2 div.sk-estimator {font-family: monospace;background-color: #f0f8ff;border: 1px dotted black;border-radius: 0.25em;box-sizing: border-box;margin-bottom: 0.5em;}#sk-container-id-2 div.sk-estimator:hover {background-color: #d4ebff;}#sk-container-id-2 div.sk-parallel-item::after {content: \"\";width: 100%;border-bottom: 1px solid gray;flex-grow: 1;}#sk-container-id-2 div.sk-label:hover label.sk-toggleable__label {background-color: #d4ebff;}#sk-container-id-2 div.sk-serial::before {content: \"\";position: absolute;border-left: 1px solid gray;box-sizing: border-box;top: 0;bottom: 0;left: 50%;z-index: 0;}#sk-container-id-2 div.sk-serial {display: flex;flex-direction: column;align-items: center;background-color: white;padding-right: 0.2em;padding-left: 0.2em;position: relative;}#sk-container-id-2 div.sk-item {position: relative;z-index: 1;}#sk-container-id-2 div.sk-parallel {display: flex;align-items: stretch;justify-content: center;background-color: white;position: relative;}#sk-container-id-2 div.sk-item::before, #sk-container-id-2 div.sk-parallel-item::before {content: \"\";position: absolute;border-left: 1px solid gray;box-sizing: border-box;top: 0;bottom: 0;left: 50%;z-index: -1;}#sk-container-id-2 div.sk-parallel-item {display: flex;flex-direction: column;z-index: 1;position: relative;background-color: white;}#sk-container-id-2 div.sk-parallel-item:first-child::after {align-self: flex-end;width: 50%;}#sk-container-id-2 div.sk-parallel-item:last-child::after {align-self: flex-start;width: 50%;}#sk-container-id-2 div.sk-parallel-item:only-child::after {width: 0;}#sk-container-id-2 div.sk-dashed-wrapped {border: 1px dashed gray;margin: 0 0.4em 0.5em 0.4em;box-sizing: border-box;padding-bottom: 0.4em;background-color: white;}#sk-container-id-2 div.sk-label label {font-family: monospace;font-weight: bold;display: inline-block;line-height: 1.2em;}#sk-container-id-2 div.sk-label-container {text-align: center;}#sk-container-id-2 div.sk-container {/* jupyter's `normalize.less` sets `[hidden] { display: none; }` but bootstrap.min.css set `[hidden] { display: none !important; }` so we also need the `!important` here to be able to override the default hidden behavior on the sphinx rendered scikit-learn.org. See: https://github.com/scikit-learn/scikit-learn/issues/21755 */display: inline-block !important;position: relative;}#sk-container-id-2 div.sk-text-repr-fallback {display: none;}</style><div id=\"sk-container-id-2\" class=\"sk-top-container\"><div class=\"sk-text-repr-fallback\"><pre>LogisticRegression()</pre><b>In a Jupyter environment, please rerun this cell to show the HTML representation or trust the notebook. <br />On GitHub, the HTML representation is unable to render, please try loading this page with nbviewer.org.</b></div><div class=\"sk-container\" hidden><div class=\"sk-item\"><div class=\"sk-estimator sk-toggleable\"><input class=\"sk-toggleable__control sk-hidden--visually\" id=\"sk-estimator-id-2\" type=\"checkbox\" checked><label for=\"sk-estimator-id-2\" class=\"sk-toggleable__label sk-toggleable__label-arrow\">LogisticRegression</label><div class=\"sk-toggleable__content\"><pre>LogisticRegression()</pre></div></div></div></div></div>"
      ],
      "text/plain": [
       "LogisticRegression()"
      ]
     },
     "execution_count": 7,
     "metadata": {},
     "output_type": "execute_result"
    }
   ],
   "source": [
    "X=dataSet.drop('is_genuine',axis=1)\n",
    "Y=dataSet['is_genuine']\n",
    "X_train,X_test,Y_train,Y_test = train_test_split(X,Y,random_state=30,train_size=0.8)\n",
    "classificationModel=LogisticRegression()\n",
    "\n",
    "classificationModel.fit(X_train,Y_train)\n",
    "\n"
   ]
  }
 ],
 "metadata": {
  "kernelspec": {
   "display_name": "Python 3",
   "language": "python",
   "name": "python3"
  },
  "language_info": {
   "codemirror_mode": {
    "name": "ipython",
    "version": 3
   },
   "file_extension": ".py",
   "mimetype": "text/x-python",
   "name": "python",
   "nbconvert_exporter": "python",
   "pygments_lexer": "ipython3",
   "version": "3.11.4"
  }
 },
 "nbformat": 4,
 "nbformat_minor": 2
}
